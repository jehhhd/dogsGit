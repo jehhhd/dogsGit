{
 "cells": [
  {
   "cell_type": "code",
   "execution_count": 2,
   "id": "819b6219",
   "metadata": {},
   "outputs": [],
   "source": [
    "import requests"
   ]
  },
  {
   "cell_type": "code",
   "execution_count": 7,
   "id": "d8a319ee",
   "metadata": {},
   "outputs": [
    {
     "data": {
      "text/plain": [
       "{'totalSizeMB': 278, 'fileCount': 227648}"
      ]
     },
     "execution_count": 7,
     "metadata": {},
     "output_type": "execute_result"
    }
   ],
   "source": [
    "key = 'wKQCQL0p/dBnmga7dLbK2m4CKbyJ6bQFbF702KmmnPI='\n",
    "url = 'https://historicdata.betfair.com/api/GetAdvBasketDataSize'\n",
    "\n",
    "data={\n",
    "    \"sport\":\"Greyhound Racing\",\n",
    "    \"plan\":\"Basic Plan\",\n",
    "    \"fromDay\" : 1,\n",
    "    \"fromMonth\": 3,\n",
    "    \"fromYear\" : 2017,\n",
    "    \"toDay\": 31,\n",
    "    \"toMonth\" : 3,\n",
    "    \"toYear\": 2020,\n",
    "    \"marketTypesCollection\": [ \"WIN\", \"PLACE\" ],\n",
    "    \"countriesCollection\" : [ \"AU\" ],\n",
    "    \"fileTypeCollection\" : [ \"M\"]\n",
    "}\n",
    "\n",
    "\n",
    "\n",
    "req=requests.get(url,headers={'ssoid':key},data=data)\n",
    "req.json()"
   ]
  },
  {
   "cell_type": "code",
   "execution_count": null,
   "id": "e461815b",
   "metadata": {},
   "outputs": [],
   "source": []
  },
  {
   "cell_type": "code",
   "execution_count": null,
   "id": "5e3f8701",
   "metadata": {},
   "outputs": [],
   "source": []
  }
 ],
 "metadata": {
  "kernelspec": {
   "display_name": "Python 3 (ipykernel)",
   "language": "python",
   "name": "python3"
  },
  "language_info": {
   "codemirror_mode": {
    "name": "ipython",
    "version": 3
   },
   "file_extension": ".py",
   "mimetype": "text/x-python",
   "name": "python",
   "nbconvert_exporter": "python",
   "pygments_lexer": "ipython3",
   "version": "3.10.9"
  }
 },
 "nbformat": 4,
 "nbformat_minor": 5
}
