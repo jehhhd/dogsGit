{
 "cells": [
  {
   "cell_type": "code",
   "execution_count": 1,
   "id": "3fde785a",
   "metadata": {},
   "outputs": [],
   "source": [
    "import pandas as pd\n",
    "import numpy as np\n",
    "import asyncio\n",
    "import re\n",
    "import os\n",
    "from datetime import datetime, timedelta\n",
    "import betwatch\n",
    "from betwatch.types import (\n",
    "    Bookmaker,\n",
    "    MarketPriceType,\n",
    "    MeetingType,\n",
    "    RaceProjection,\n",
    "    RacesFilter,\n",
    ")"
   ]
  },
  {
   "cell_type": "markdown",
   "id": "6bed6cac",
   "metadata": {},
   "source": [
    "TODO\n",
    "- flucs\n",
    "- place markets"
   ]
  },
  {
   "cell_type": "code",
   "execution_count": 2,
   "id": "859011a3",
   "metadata": {},
   "outputs": [],
   "source": [
    "def extract_track_and_date(input_string):\n",
    "    # Define a regular expression pattern\n",
    "    pattern = re.compile(r'\\((.*?)\\) (.*?) R(\\d+) \\[(\\d{2}/\\d{2}/\\d{4} \\d{2}:\\d{2})\\]')\n",
    "\n",
    "    # Match the pattern in the input string\n",
    "    match = pattern.match(input_string)\n",
    "\n",
    "    if match:\n",
    "        # Extract matched groups\n",
    "        track_type, track_name, race_number, date_string = match.groups()\n",
    "\n",
    "        # Parse the date string to a datetime object\n",
    "        race_date = datetime.strptime(date_string, \"%d/%m/%Y %H:%M\").strftime(format='%Y-%m-%d')\n",
    "\n",
    "        return {\n",
    "            'track_type': track_type,\n",
    "            'track_name': track_name,\n",
    "            'race_number': int(race_number),\n",
    "            'race_date': race_date\n",
    "        }\n",
    "    else:\n",
    "        return None\n"
   ]
  },
  {
   "cell_type": "code",
   "execution_count": null,
   "id": "9865e4b1",
   "metadata": {},
   "outputs": [],
   "source": [
    "\n",
    "api_key = 'd747b241-f64c-4b2b-8573-f0557cc31e03'\n",
    "\n",
    "client = betwatch.connect(api_key=api_key)\n",
    "\n",
    "# define the projection of the returned data\n",
    "# we can filter out for certain bookmakers as well as define whether we want market data or flucs\n",
    "projection = RaceProjection(\n",
    "    markets=True,  bookmakers=[Bookmaker.SPORTSBET]\n",
    ")\n",
    "\n",
    "# define the filter for the query\n",
    "# here we can filter by date, type of meeting, and various other parameters\n",
    "races_filter = RacesFilter(\n",
    "    date_from=datetime.now() - timedelta(days=600),\n",
    "    date_to=datetime.now() - timedelta(days=1),\n",
    "    types=[MeetingType.GREYHOUND],  # filter on a race type\n",
    "\n",
    ")\n",
    "\n",
    "races = client.get_races(projection, races_filter)"
   ]
  },
  {
   "cell_type": "code",
   "execution_count": null,
   "id": "a7078f44",
   "metadata": {},
   "outputs": [],
   "source": [
    "res=[]\n",
    "for race in races:\n",
    "    rname = str(race)\n",
    "    res1 = extract_track_and_date(rname)\n",
    "    if(1==1):\n",
    "    # make sure the race has runners\n",
    "        if race.runners:\n",
    "            # loop through each runner in the race\n",
    "            for runner in race.runners:\n",
    "                name = str(runner)\n",
    "                \n",
    "                price=0\n",
    "                date='1900-01-01'\n",
    "                \n",
    "                for m in runner.bookmaker_markets:\n",
    "                    price = m.fixed_win.price\n",
    "                    date = m.fixed_win._last_updated\n",
    "\n",
    "                res2 = res1.copy()\n",
    "                res2['name']=name\n",
    "                res2['price']=price\n",
    "                res.append(res2)\n",
    "                \n",
    "pd.DataFrame(res)             "
   ]
  },
  {
   "cell_type": "code",
   "execution_count": null,
   "id": "a4e26346",
   "metadata": {},
   "outputs": [],
   "source": [
    "pd.DataFrame(res)"
   ]
  },
  {
   "cell_type": "code",
   "execution_count": null,
   "id": "d187fce4",
   "metadata": {},
   "outputs": [],
   "source": []
  }
 ],
 "metadata": {
  "kernelspec": {
   "display_name": "Python 3 (ipykernel)",
   "language": "python",
   "name": "python3"
  },
  "language_info": {
   "codemirror_mode": {
    "name": "ipython",
    "version": 3
   },
   "file_extension": ".py",
   "mimetype": "text/x-python",
   "name": "python",
   "nbconvert_exporter": "python",
   "pygments_lexer": "ipython3",
   "version": "3.10.9"
  }
 },
 "nbformat": 4,
 "nbformat_minor": 5
}
