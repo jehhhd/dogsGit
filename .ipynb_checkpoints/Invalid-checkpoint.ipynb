{
 "cells": [
  {
   "cell_type": "code",
   "execution_count": 3,
   "id": "93976ee2",
   "metadata": {},
   "outputs": [],
   "source": [
    "import pandas as pd\n",
    "\n",
    "tracks = ['traralgon','ipswich','albion park','cannington','geelong','ballarat','launceston','warrnambool','casino','gosford','warragul','grafton','mandurah','townsville','bendigo','shepparton','hobart']\n",
    "\n",
    "races = pd.read_csv('allRaces1.csv')\n",
    "for track in tracks:\n",
    "    invalid = []\n",
    "    races1 = pd.read_csv('class/'+track+'.csv')\n",
    "    for raceid in races1['RaceId'].unique():\n",
    "        if races[races['RaceId']==raceid].shape[0] == races1[races1['RaceId']==raceid].shape[0]:\n",
    "            pass\n",
    "        else:\n",
    "            invalid.append(raceid)\n",
    "    dc = {'Invalid':invalid}\n",
    "    dff = pd.DataFrame(dc)\n",
    "    dff.to_csv('Invalid/Invalid_'+track+'.csv')   "
   ]
  },
  {
   "cell_type": "code",
   "execution_count": null,
   "id": "0d25be33",
   "metadata": {},
   "outputs": [],
   "source": []
  }
 ],
 "metadata": {
  "kernelspec": {
   "display_name": "Python 3 (ipykernel)",
   "language": "python",
   "name": "python3"
  },
  "language_info": {
   "codemirror_mode": {
    "name": "ipython",
    "version": 3
   },
   "file_extension": ".py",
   "mimetype": "text/x-python",
   "name": "python",
   "nbconvert_exporter": "python",
   "pygments_lexer": "ipython3",
   "version": "3.10.9"
  }
 },
 "nbformat": 4,
 "nbformat_minor": 5
}
