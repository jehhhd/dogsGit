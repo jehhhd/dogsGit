{
 "cells": [
  {
   "cell_type": "code",
   "execution_count": 1,
   "id": "ce4829d0",
   "metadata": {},
   "outputs": [],
   "source": [
    "import pandas as pd\n",
    "import numpy as np\n",
    "import matplotlib.pyplot as plt\n",
    "from sklearn.neighbors import KNeighborsRegressor\n",
    "from sklearn.ensemble import RandomForestRegressor\n",
    "from sklearn.neural_network import MLPRegressor\n",
    "from sklearn.linear_model import LinearRegression\n",
    "from sklearn.linear_model import Lasso, Ridge\n",
    "from sklearn.linear_model import LogisticRegression\n",
    "import statsmodels.formula.api as smf\n",
    "import seaborn as sns\n",
    "import json\n",
    "import warnings\n",
    "from sklearn.metrics import f1_score,precision_score,recall_score\n",
    "from sklearn.exceptions import ConvergenceWarning\n",
    "warnings.filterwarnings(\"ignore\", category=ConvergenceWarning)\n"
   ]
  },
  {
   "cell_type": "code",
   "execution_count": 2,
   "id": "00d00205",
   "metadata": {},
   "outputs": [
    {
     "data": {
      "text/plain": [
       "Index(['RunTime', 'Place', 'Date', 'RaceId', 'Distance', 'Weight',\n",
       "       'StartPrice', 'mean_place', 'mean_in_race_pos', 'time_z_avg',\n",
       "       'split_z_avg', 'pred_split1', 't1', 't2', 't3', 't4', 't5',\n",
       "       'last_5_avg', 'in_form', 'ctime_z_avg', 'csplit_z_avg', 'pred_split2',\n",
       "       'at_cas_dist_time', 'at_cas_dist_time_avg', 'at_cas_perc', 'in_form2',\n",
       "       't_mean_place', 't_5_time_z', 'faster_inside', 'next_to_faster',\n",
       "       'collision', 'first_out', 'pir1', 'pir2', 'pir3', 'Win', 'b1', 'b2',\n",
       "       'b3', 'b4', 'b5', 'b6', 'b7', 'b8', 'i1', 'i2'],\n",
       "      dtype='object')"
      ]
     },
     "execution_count": 2,
     "metadata": {},
     "output_type": "execute_result"
    }
   ],
   "source": [
    "data=pd.read_csv('class/ballarat.csv')\n",
    "data=data.filter(regex='^(?!Unnamed)')\n",
    "data.columns"
   ]
  },
  {
   "cell_type": "code",
   "execution_count": 3,
   "id": "8733c115",
   "metadata": {},
   "outputs": [],
   "source": [
    "data['b21']=data['b1']+data['b2']+data['b3']\n",
    "data['b22']=data['b4']+data['b5']+data['b6']\n",
    "data['b23']=data['b7']+data['b8']\n",
    "\n",
    "\n",
    "data['quick_ins1']=(data['split_z_avg']<0)*data['b21']\n",
    "data['quick_ins2']=(data['split_z_avg']<0)*data['b21']*(data['pir1']<4)\n",
    "data['quick_ins3']=data['b21']*data['first_out']\n",
    "\n",
    "\n",
    "data['quick_out1']=(data['split_z_avg']<0)*data['b23']\n",
    "data['wide_finisher']=(data['pir3']<0)*data['b23']\n",
    "\n",
    "data['middle_shitfest']=data['collision']*data['b22']\n",
    "\n",
    "param=-0.5\n",
    "data['perfect_storm']=(data['split_z_avg']<param)*(data['time_z_avg']<param)*(data['in_form'])\n",
    "param=-1\n",
    "data['perfect_storm2']=(data['split_z_avg']<param)*(data['time_z_avg']<param)*(data['in_form'])\n",
    "data.to_csv('geelong.csv',index=False)\n"
   ]
  },
  {
   "cell_type": "code",
   "execution_count": 4,
   "id": "cb33942c",
   "metadata": {},
   "outputs": [],
   "source": [
    "def selector(data):\n",
    "    var = list(data.columns)\n",
    "    to_rem=[]\n",
    "    for v in var:\n",
    "        if('Unnamed:' in v):\n",
    "            to_rem.append(v)\n",
    "#     print(to_rem)\n",
    "    to_rem += ['RunTime','RaceId','Distance','Weight','StartPrice','Place','Win','Date','date','Split','b1','b2','b3','b4','b5','b6','b7','b8']\n",
    "    for v in to_rem:\n",
    "        if(v in var):\n",
    "            var.remove(v)\n",
    "#     print(var)\n",
    "\n",
    "#     start=['quick_ins2','perfect_storm']\n",
    "    start=[]\n",
    "    runs=20\n",
    "    old_accuracy = 0\n",
    "    j=0\n",
    "    final_mod = ''\n",
    "    X=data\n",
    "    y=data['Win']\n",
    "    total_samples = X.shape[0]\n",
    "    split_index = int(total_samples * 0.8)  # 80% for training, 20% for testing\n",
    "\n",
    "    # Split the data\n",
    "    X_train, X_test = X[:split_index], X[split_index:]\n",
    "    y_train, y_test = y[:split_index], list(y[split_index:])\n",
    "\n",
    "   \n",
    "\n",
    "    while(j<runs):\n",
    "        to_add = ''\n",
    "        to_beat = old_accuracy\n",
    "        best_mod = ''\n",
    "        for i in var:\n",
    "            combination = start + [i]\n",
    "            \n",
    "            y_pred = LogisticRegression().fit(X_train[combination], y_train).predict_proba(X_test[combination])\n",
    "            \n",
    "            y_pred = np.transpose(y_pred)[1]\n",
    "#             print(y_pred)\n",
    "#             print(y_pred[2])\n",
    "            \n",
    "            for k in range(len(y_pred)):\n",
    "                if(y_pred[k]>0.2):\n",
    "                    y_pred[k]=1\n",
    "                else:\n",
    "                    y_pred[k]=0\n",
    "#             right = 0\n",
    "#             wrong = 0\n",
    "#             for x in range(0,len(y_pred)):\n",
    "#                 if y_pred[x]==y_test[x]:\n",
    "#                     right+=1\n",
    "#                 else:\n",
    "#                     wrong+=1\n",
    "#             accuracy = right/(right+wrong)\n",
    "            accuracy=f1_score(y_test,y_pred)\n",
    "\n",
    "\n",
    "            if accuracy > to_beat:\n",
    "                to_add = i\n",
    "                to_beat = accuracy\n",
    "            \n",
    "\n",
    "\n",
    "        if(to_beat-old_accuracy<0.000000000001):\n",
    "            j=runs\n",
    "        else:\n",
    "            start = start + [to_add]\n",
    "            old_accuracy = to_beat\n",
    "\n",
    "            j+=1\n",
    "#             print(start,old_MAD)\n",
    "            var.remove(to_add)\n",
    "\n",
    "    return [start,old_accuracy]\n",
    "\n"
   ]
  },
  {
   "cell_type": "code",
   "execution_count": 5,
   "id": "4a848905",
   "metadata": {},
   "outputs": [
    {
     "name": "stdout",
     "output_type": "stream",
     "text": [
      "ballarat 390 0.27899686520376177 ['first_out', 'split_z_avg', 'mean_in_race_pos', 'at_cas_dist_time', 'collision', 'time_z_avg', 'next_to_faster', 'at_cas_dist_time_avg']\n",
      "ballarat 545 0.37423312883435583 ['last_5_avg', 'first_out', 'mean_place', 'mean_in_race_pos', 'in_form2', 'at_cas_dist_time']\n",
      "ballarat 450 0.26578699340245054 ['time_z_avg', 'first_out', 'csplit_z_avg', 'last_5_avg', 'mean_place', 'pred_split2']\n",
      "ballarat 660 0.5172413793103449 ['last_5_avg', 'in_form', 't4']\n",
      "ballarat\n"
     ]
    }
   ],
   "source": [
    "result={}\n",
    "#tracks = ['traralgon','ipswich','albion park','cannington','geelong','ballarat','launceston','warrnambool','casino','gosford','warragul','grafton','mandurah','townsville','bendigo','shepparton','hobart']\n",
    "tracks=['ballarat']\n",
    "for track in tracks:\n",
    "    \n",
    "    track_result={}\n",
    "    # track='ipswich'\n",
    "    data=pd.read_csv(track+'.csv')\n",
    "\n",
    "    \n",
    "    dists = data['Distance'].unique()\n",
    "    for dist in dists:\n",
    "        if(1==1):\n",
    "            data2 = data[data['Distance']==dist]\n",
    "            if(data2.shape[0]>30):\n",
    "                data2=data2.dropna()\n",
    "                x=selector(data2)\n",
    "                predictors=x[0]\n",
    "                mad=x[1]\n",
    "                print(track,dist,mad,predictors)\n",
    "                track_result[int(dist)]=predictors\n",
    "    result[track]=track_result\n",
    "    print(track)\n",
    "    \n"
   ]
  },
  {
   "cell_type": "code",
   "execution_count": 6,
   "id": "3fbfac3d",
   "metadata": {},
   "outputs": [],
   "source": [
    "json_filename = 'preds.json'\n",
    "with open(json_filename,'r') as json_file:\n",
    "    dic = json.load(json_file)\n",
    "\n",
    "for track in result.keys():\n",
    "    dic[track]=result[track]\n",
    "    \n",
    "\n",
    "\n",
    "with open(json_filename, 'w') as json_file:\n",
    "    json.dump(dic, json_file)"
   ]
  },
  {
   "cell_type": "code",
   "execution_count": 7,
   "id": "28ba2f06",
   "metadata": {},
   "outputs": [
    {
     "data": {
      "text/plain": [
       "{'395': ['faster_inside',\n",
       "  'i1',\n",
       "  'i2',\n",
       "  'last_5_avg',\n",
       "  'at_cas_dist_time_avg',\n",
       "  'first_out',\n",
       "  't5',\n",
       "  't1',\n",
       "  'at_cas_perc'],\n",
       " '331': ['faster_inside', 'i1', 'i2', 'mean_place', 'collision', 't3'],\n",
       " '520': ['faster_inside', 'i1', 'i2', 'time_z_avg', 't1'],\n",
       " '710': ['faster_inside', 'i1', 'i2', 'mean_place', 'at_cas_perc'],\n",
       " '600': [395, 331, 520, 710, 600, 395, 331, 520, 710, 600]}"
      ]
     },
     "execution_count": 7,
     "metadata": {},
     "output_type": "execute_result"
    }
   ],
   "source": [
    "json_filename = 'preds.json'\n",
    "with open(json_filename,'r') as json_file:\n",
    "    dic = json.load(json_file)\n",
    "dic['albion park']"
   ]
  },
  {
   "cell_type": "code",
   "execution_count": null,
   "id": "f64d72f3",
   "metadata": {
    "scrolled": false
   },
   "outputs": [],
   "source": []
  },
  {
   "cell_type": "code",
   "execution_count": null,
   "id": "0126c66a",
   "metadata": {},
   "outputs": [],
   "source": []
  },
  {
   "cell_type": "code",
   "execution_count": null,
   "id": "b411f7f1",
   "metadata": {},
   "outputs": [],
   "source": []
  },
  {
   "cell_type": "code",
   "execution_count": 8,
   "id": "3d7947c5",
   "metadata": {},
   "outputs": [
    {
     "data": {
      "text/plain": [
       "{3}"
      ]
     },
     "execution_count": 8,
     "metadata": {},
     "output_type": "execute_result"
    }
   ],
   "source": [
    "set([2,3])-set([2])"
   ]
  },
  {
   "cell_type": "code",
   "execution_count": 9,
   "id": "f4f7e7a7",
   "metadata": {},
   "outputs": [],
   "source": [
    "def selector_b(data):\n",
    "    var = list(data.columns)\n",
    "    to_rem=[]\n",
    "    for v in var:\n",
    "        if('Unnamed:' in v):\n",
    "            to_rem.append(v)\n",
    "#     print(to_rem)\n",
    "    to_rem += ['RunTime','RaceId','Distance','StartPrice','Place','Win','Date','date','Split']\n",
    "    for v in to_rem:\n",
    "        if(v in var):\n",
    "            var.remove(v)\n",
    "#     print(var)\n",
    "\n",
    "    start=var\n",
    "    runs=20\n",
    "    old_accuracy = 0\n",
    "    j=0\n",
    "    final_mod = ''\n",
    "    X=data\n",
    "    y=data['Win']\n",
    "    total_samples = X.shape[0]\n",
    "    split_index = int(total_samples * 0.8)  # 80% for training, 20% for testing\n",
    "\n",
    "    # Split the data\n",
    "    X_train, X_test = X[:split_index], X[split_index:]\n",
    "    y_train, y_test = y[:split_index], list(y[split_index:])\n",
    "\n",
    "   \n",
    "\n",
    "    while(j<runs):\n",
    "        to_add = ''\n",
    "        to_beat = old_accuracy\n",
    "        best_mod = ''\n",
    "        for i in var:\n",
    "            combination = list(set(start) - set([i]))\n",
    "            \n",
    "            y_pred = LogisticRegression().fit(X_train[combination], y_train).predict_proba(X_test[combination])\n",
    "            \n",
    "            y_pred = np.transpose(y_pred)[1]\n",
    "#             print(y_pred)\n",
    "#             print(y_pred[2])\n",
    "            \n",
    "            for k in range(len(y_pred)):\n",
    "                if(y_pred[k]>0.3):\n",
    "                    y_pred[k]=1\n",
    "                else:\n",
    "                    y_pred[k]=0\n",
    "            right = 0\n",
    "            wrong = 0\n",
    "#             for x in range(0,len(y_pred)):\n",
    "#                 if y_pred[x]==y_test[x]:\n",
    "#                     right+=1\n",
    "#                 else:\n",
    "#                     wrong+=1\n",
    "#             accuracy = right/(right+wrong)\n",
    "            accuracy=f1_score(y_test,y_pred)\n",
    "            \n",
    "\n",
    "\n",
    "            if accuracy > to_beat:\n",
    "                to_add = i\n",
    "                to_beat = accuracy\n",
    "            \n",
    "\n",
    "\n",
    "        if(to_beat-old_accuracy<0.000000000001):\n",
    "            j=runs\n",
    "        else:\n",
    "            start = list(set(start) - set([to_add]))\n",
    "            old_accuracy = to_beat\n",
    "\n",
    "            j+=1\n",
    "#             print(start,old_MAD)\n",
    "            var.remove(to_add)\n",
    "\n",
    "    return [start,old_accuracy]\n",
    "\n"
   ]
  }
 ],
 "metadata": {
  "kernelspec": {
   "display_name": "Python 3 (ipykernel)",
   "language": "python",
   "name": "python3"
  },
  "language_info": {
   "codemirror_mode": {
    "name": "ipython",
    "version": 3
   },
   "file_extension": ".py",
   "mimetype": "text/x-python",
   "name": "python",
   "nbconvert_exporter": "python",
   "pygments_lexer": "ipython3",
   "version": "3.10.9"
  }
 },
 "nbformat": 4,
 "nbformat_minor": 5
}
