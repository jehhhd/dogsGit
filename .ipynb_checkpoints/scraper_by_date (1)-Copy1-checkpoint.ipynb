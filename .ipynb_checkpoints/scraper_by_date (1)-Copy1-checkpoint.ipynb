{
 "cells": [
  {
   "cell_type": "code",
   "execution_count": 1,
   "id": "f374c250",
   "metadata": {},
   "outputs": [],
   "source": [
    "from selenium import webdriver\n",
    "from selenium.webdriver.common.keys import Keys\n",
    "import pandas as pd\n",
    "from selenium.webdriver.common.by import By\n",
    "from datetime import datetime\n",
    "from selenium.common.exceptions import NoSuchElementException\n",
    "import time "
   ]
  },
  {
   "cell_type": "code",
   "execution_count": 2,
   "id": "defaf0ad",
   "metadata": {},
   "outputs": [
    {
     "name": "stdout",
     "output_type": "stream",
     "text": [
      "2023-12-13\n",
      "2023-12-14\n"
     ]
    }
   ],
   "source": [
    "months = [12]\n",
    "days=[14]\n",
    "dates=[]\n",
    "for i in range(len(months)):\n",
    "    string = '2023-' +str(months[i])\n",
    "    for j in range(13,days[i]+1):\n",
    "        if(len(str(j))==1):\n",
    "            string2 = string +'-0'+str(j)\n",
    "        else:\n",
    "            string2 = string+'-'+str(j)\n",
    "        print(string2)\n",
    "        dates.append(string2)"
   ]
  },
  {
   "cell_type": "code",
   "execution_count": 3,
   "id": "b13cd845",
   "metadata": {},
   "outputs": [
    {
     "data": {
      "text/plain": [
       "['2023-12-13', '2023-12-14']"
      ]
     },
     "execution_count": 3,
     "metadata": {},
     "output_type": "execute_result"
    }
   ],
   "source": [
    "dates"
   ]
  },
  {
   "cell_type": "code",
   "execution_count": 4,
   "id": "e37b4d26",
   "metadata": {},
   "outputs": [
    {
     "name": "stdout",
     "output_type": "stream",
     "text": [
      "Addington (NZL) NZL https://www.thegreyhoundrecorder.com.au/results/addington/225542/\n",
      "Albion Park (QLD) QLD https://www.thegreyhoundrecorder.com.au/results/albion-park/225588/\n",
      "Ballarat (VIC) VIC https://www.thegreyhoundrecorder.com.au/results/ballarat/225577/\n",
      "Bendigo (VIC) VIC https://www.thegreyhoundrecorder.com.au/results/bendigo/225576/\n",
      "Cannington (WA) WA https://www.thegreyhoundrecorder.com.au/results/cannington/225556/\n",
      "Capalaba (QLD) QLD https://www.thegreyhoundrecorder.com.au/results/capalaba/225586/\n",
      "Central Park (GBR) GBR https://www.thegreyhoundrecorder.com.au/results/central-park/225599/\n",
      "Crayford (GBR) GBR https://www.thegreyhoundrecorder.com.au/results/crayford/225580/\n",
      "Darwin (NT) NT https://www.thegreyhoundrecorder.com.au/results/darwin/225591/\n",
      "Doncaster (GBR) GBR https://www.thegreyhoundrecorder.com.au/results/doncaster/225632/\n",
      "Gawler (SA) SA https://www.thegreyhoundrecorder.com.au/results/gawler/225554/\n",
      "Harlow (GBR) GBR https://www.thegreyhoundrecorder.com.au/results/harlow/225603/\n",
      "Harlow (GBR) GBR https://www.thegreyhoundrecorder.com.au/results/harlow/225582/\n",
      "Healesville (VIC) VIC https://www.thegreyhoundrecorder.com.au/results/healesville/225584/\n",
      "Hove (GBR) GBR https://www.thegreyhoundrecorder.com.au/results/hove/225581/\n",
      "Kilkenny (IRE) IRE https://www.thegreyhoundrecorder.com.au/results/kilkenny/225601/\n",
      "Kinsley (GBR) GBR https://www.thegreyhoundrecorder.com.au/results/kinsley/225681/\n",
      "Monmore (GBR) GBR https://www.thegreyhoundrecorder.com.au/results/monmore/225605/\n",
      "Newcastle (GBR) GBR https://www.thegreyhoundrecorder.com.au/results/newcastle/225602/\n",
      "Nottingham (GBR) GBR https://www.thegreyhoundrecorder.com.au/results/nottingham/225579/\n",
      "Richmond (NSW) NSW https://www.thegreyhoundrecorder.com.au/results/richmond/225589/\n",
      "Rockhampton (QLD) QLD https://www.thegreyhoundrecorder.com.au/results/rockhampton/225555/\n",
      "Temora (NSW) NSW https://www.thegreyhoundrecorder.com.au/results/temora/225590/\n",
      "The Gardens (NSW) NSW https://www.thegreyhoundrecorder.com.au/results/the-gardens/225587/\n",
      "The Meadows (VIC) VIC https://www.thegreyhoundrecorder.com.au/results/the-meadows/225585/\n",
      "Yarmouth (GBR) GBR https://www.thegreyhoundrecorder.com.au/results/yarmouth/225604/\n",
      "Youghal (IRE) IRE https://www.thegreyhoundrecorder.com.au/results/youghal/225578/\n",
      "2023-12-13\n",
      "Albion Park (QLD) QLD https://www.thegreyhoundrecorder.com.au/results/albion-park/225593/\n",
      "Angle Park (SA) SA https://www.thegreyhoundrecorder.com.au/results/angle-park/225598/\n",
      "Cambridge (NZL) NZL https://www.thegreyhoundrecorder.com.au/results/cambridge/225543/\n",
      "Casino (NSW) NSW https://www.thegreyhoundrecorder.com.au/results/casino/225583/\n",
      "Crayford (GBR) GBR https://www.thegreyhoundrecorder.com.au/results/crayford/225640/\n",
      "Curraheen Park (IRE) IRE https://www.thegreyhoundrecorder.com.au/results/curraheen-park/225629/\n",
      "Dapto (NSW) NSW https://www.thegreyhoundrecorder.com.au/results/dapto/225592/\n",
      "Enniscorthy (IRE) IRE https://www.thegreyhoundrecorder.com.au/results/enniscorthy/225611/\n",
      "Gunnedah (NSW) NSW https://www.thegreyhoundrecorder.com.au/results/gunnedah/225595/\n",
      "Hobart (TAS) TAS https://www.thegreyhoundrecorder.com.au/results/hobart/225575/\n",
      "Hove (GBR) GBR https://www.thegreyhoundrecorder.com.au/results/hove/225616/\n",
      "Ipswich (QLD) QLD https://www.thegreyhoundrecorder.com.au/results/ipswich/225619/\n",
      "Limerick (IRE) IRE https://www.thegreyhoundrecorder.com.au/results/limerick/225634/\n",
      "Mandurah (WA) WA https://www.thegreyhoundrecorder.com.au/results/mandurah/225594/\n",
      "Monmore (GBR) GBR https://www.thegreyhoundrecorder.com.au/results/monmore/225639/\n",
      "Mount Gambier (SA) SA https://www.thegreyhoundrecorder.com.au/results/mount-gambier/225597/\n",
      "Newcastle (GBR) GBR https://www.thegreyhoundrecorder.com.au/results/newcastle/225633/\n",
      "Nottingham (GBR) GBR https://www.thegreyhoundrecorder.com.au/results/nottingham/225613/\n",
      "Perry Barr (GBR) GBR https://www.thegreyhoundrecorder.com.au/results/perry-barr/225615/\n",
      "Romford (GBR) GBR https://www.thegreyhoundrecorder.com.au/results/romford/225635/\n",
      "Sandown Park (VIC) VIC https://www.thegreyhoundrecorder.com.au/results/sandown-park/225606/\n",
      "Sheffield (GBR) GBR https://www.thegreyhoundrecorder.com.au/results/sheffield/225638/\n",
      "Shelbourne Park (IRE) IRE https://www.thegreyhoundrecorder.com.au/results/shelbourne-park/225631/\n",
      "Shepparton (VIC) VIC https://www.thegreyhoundrecorder.com.au/results/shepparton/225609/\n",
      "Suffolk Downs (GBR) GBR https://www.thegreyhoundrecorder.com.au/results/suffolk-downs/225636/\n",
      "Swindon (GBR) GBR https://www.thegreyhoundrecorder.com.au/results/swindon/225614/\n",
      "The Valley (GBR) GBR https://www.thegreyhoundrecorder.com.au/results/the-valley/225637/\n",
      "Towcester (GBR) GBR https://www.thegreyhoundrecorder.com.au/results/towcester/225612/\n",
      "Warragul (VIC) VIC https://www.thegreyhoundrecorder.com.au/results/warragul/225596/\n",
      "Warrnambool (VIC) VIC https://www.thegreyhoundrecorder.com.au/results/warrnambool/225610/\n",
      "Waterford (IRE) IRE https://www.thegreyhoundrecorder.com.au/results/waterford/225630/\n",
      "2023-12-14\n"
     ]
    },
    {
     "data": {
      "text/plain": [
       "['https://www.thegreyhoundrecorder.com.au/results/albion-park/225588/',\n",
       " 'https://www.thegreyhoundrecorder.com.au/results/ballarat/225577/',\n",
       " 'https://www.thegreyhoundrecorder.com.au/results/bendigo/225576/',\n",
       " 'https://www.thegreyhoundrecorder.com.au/results/cannington/225556/',\n",
       " 'https://www.thegreyhoundrecorder.com.au/results/capalaba/225586/',\n",
       " 'https://www.thegreyhoundrecorder.com.au/results/central-park/225599/',\n",
       " 'https://www.thegreyhoundrecorder.com.au/results/crayford/225580/',\n",
       " 'https://www.thegreyhoundrecorder.com.au/results/darwin/225591/',\n",
       " 'https://www.thegreyhoundrecorder.com.au/results/doncaster/225632/',\n",
       " 'https://www.thegreyhoundrecorder.com.au/results/gawler/225554/',\n",
       " 'https://www.thegreyhoundrecorder.com.au/results/harlow/225603/',\n",
       " 'https://www.thegreyhoundrecorder.com.au/results/harlow/225582/',\n",
       " 'https://www.thegreyhoundrecorder.com.au/results/healesville/225584/',\n",
       " 'https://www.thegreyhoundrecorder.com.au/results/hove/225581/',\n",
       " 'https://www.thegreyhoundrecorder.com.au/results/kilkenny/225601/',\n",
       " 'https://www.thegreyhoundrecorder.com.au/results/kinsley/225681/',\n",
       " 'https://www.thegreyhoundrecorder.com.au/results/monmore/225605/',\n",
       " 'https://www.thegreyhoundrecorder.com.au/results/newcastle/225602/',\n",
       " 'https://www.thegreyhoundrecorder.com.au/results/nottingham/225579/',\n",
       " 'https://www.thegreyhoundrecorder.com.au/results/richmond/225589/',\n",
       " 'https://www.thegreyhoundrecorder.com.au/results/rockhampton/225555/',\n",
       " 'https://www.thegreyhoundrecorder.com.au/results/temora/225590/',\n",
       " 'https://www.thegreyhoundrecorder.com.au/results/the-gardens/225587/',\n",
       " 'https://www.thegreyhoundrecorder.com.au/results/the-meadows/225585/',\n",
       " 'https://www.thegreyhoundrecorder.com.au/results/yarmouth/225604/',\n",
       " 'https://www.thegreyhoundrecorder.com.au/results/youghal/225578/',\n",
       " 'https://www.thegreyhoundrecorder.com.au/results/albion-park/225593/',\n",
       " 'https://www.thegreyhoundrecorder.com.au/results/angle-park/225598/',\n",
       " 'https://www.thegreyhoundrecorder.com.au/results/casino/225583/',\n",
       " 'https://www.thegreyhoundrecorder.com.au/results/crayford/225640/',\n",
       " 'https://www.thegreyhoundrecorder.com.au/results/curraheen-park/225629/',\n",
       " 'https://www.thegreyhoundrecorder.com.au/results/dapto/225592/',\n",
       " 'https://www.thegreyhoundrecorder.com.au/results/enniscorthy/225611/',\n",
       " 'https://www.thegreyhoundrecorder.com.au/results/gunnedah/225595/',\n",
       " 'https://www.thegreyhoundrecorder.com.au/results/hobart/225575/',\n",
       " 'https://www.thegreyhoundrecorder.com.au/results/hove/225616/',\n",
       " 'https://www.thegreyhoundrecorder.com.au/results/ipswich/225619/',\n",
       " 'https://www.thegreyhoundrecorder.com.au/results/limerick/225634/',\n",
       " 'https://www.thegreyhoundrecorder.com.au/results/mandurah/225594/',\n",
       " 'https://www.thegreyhoundrecorder.com.au/results/monmore/225639/',\n",
       " 'https://www.thegreyhoundrecorder.com.au/results/mount-gambier/225597/',\n",
       " 'https://www.thegreyhoundrecorder.com.au/results/newcastle/225633/',\n",
       " 'https://www.thegreyhoundrecorder.com.au/results/nottingham/225613/',\n",
       " 'https://www.thegreyhoundrecorder.com.au/results/perry-barr/225615/',\n",
       " 'https://www.thegreyhoundrecorder.com.au/results/romford/225635/',\n",
       " 'https://www.thegreyhoundrecorder.com.au/results/sandown-park/225606/',\n",
       " 'https://www.thegreyhoundrecorder.com.au/results/sheffield/225638/',\n",
       " 'https://www.thegreyhoundrecorder.com.au/results/shelbourne-park/225631/',\n",
       " 'https://www.thegreyhoundrecorder.com.au/results/shepparton/225609/',\n",
       " 'https://www.thegreyhoundrecorder.com.au/results/suffolk-downs/225636/',\n",
       " 'https://www.thegreyhoundrecorder.com.au/results/swindon/225614/',\n",
       " 'https://www.thegreyhoundrecorder.com.au/results/the-valley/225637/',\n",
       " 'https://www.thegreyhoundrecorder.com.au/results/towcester/225612/',\n",
       " 'https://www.thegreyhoundrecorder.com.au/results/warragul/225596/',\n",
       " 'https://www.thegreyhoundrecorder.com.au/results/warrnambool/225610/',\n",
       " 'https://www.thegreyhoundrecorder.com.au/results/waterford/225630/']"
      ]
     },
     "execution_count": 4,
     "metadata": {},
     "output_type": "execute_result"
    }
   ],
   "source": [
    "base='https://www.thegreyhoundrecorder.com.au/results/search/'\n",
    "driver = webdriver.Safari()\n",
    "links=[]\n",
    "for i in dates:\n",
    "    url = base + i +'/'\n",
    "    driver.get(url)\n",
    "    time.sleep(2)\n",
    "    rows = driver.find_elements(By.CLASS_NAME,'meeting-row')\n",
    "    for row in rows:\n",
    "        title = row.find_element(By.CLASS_NAME,'meeting-row__title').text\n",
    "        \n",
    "        state = title.split('(')[1].strip(')')\n",
    "        link=row.find_element(By.TAG_NAME,'a').get_attribute('href')\n",
    "        print(title,state,link)\n",
    "        if(state not in ['NZL','GB']):\n",
    "            \n",
    "            \n",
    "            if(link not in links):\n",
    "                links.append(link)\n",
    "    print(i)\n",
    "            \n",
    "links"
   ]
  },
  {
   "cell_type": "code",
   "execution_count": 5,
   "id": "09a0b8a4",
   "metadata": {
    "scrolled": false
   },
   "outputs": [
    {
     "data": {
      "text/plain": [
       "['https://www.thegreyhoundrecorder.com.au/results/albion-park/225588/',\n",
       " 'https://www.thegreyhoundrecorder.com.au/results/ballarat/225577/',\n",
       " 'https://www.thegreyhoundrecorder.com.au/results/bendigo/225576/',\n",
       " 'https://www.thegreyhoundrecorder.com.au/results/cannington/225556/',\n",
       " 'https://www.thegreyhoundrecorder.com.au/results/capalaba/225586/',\n",
       " 'https://www.thegreyhoundrecorder.com.au/results/darwin/225591/',\n",
       " 'https://www.thegreyhoundrecorder.com.au/results/gawler/225554/',\n",
       " 'https://www.thegreyhoundrecorder.com.au/results/healesville/225584/',\n",
       " 'https://www.thegreyhoundrecorder.com.au/results/kilkenny/225601/',\n",
       " 'https://www.thegreyhoundrecorder.com.au/results/richmond/225589/',\n",
       " 'https://www.thegreyhoundrecorder.com.au/results/rockhampton/225555/',\n",
       " 'https://www.thegreyhoundrecorder.com.au/results/temora/225590/',\n",
       " 'https://www.thegreyhoundrecorder.com.au/results/the-gardens/225587/',\n",
       " 'https://www.thegreyhoundrecorder.com.au/results/the-meadows/225585/',\n",
       " 'https://www.thegreyhoundrecorder.com.au/results/youghal/225578/',\n",
       " 'https://www.thegreyhoundrecorder.com.au/results/albion-park/225593/',\n",
       " 'https://www.thegreyhoundrecorder.com.au/results/angle-park/225598/',\n",
       " 'https://www.thegreyhoundrecorder.com.au/results/casino/225583/',\n",
       " 'https://www.thegreyhoundrecorder.com.au/results/curraheen-park/225629/',\n",
       " 'https://www.thegreyhoundrecorder.com.au/results/dapto/225592/',\n",
       " 'https://www.thegreyhoundrecorder.com.au/results/enniscorthy/225611/',\n",
       " 'https://www.thegreyhoundrecorder.com.au/results/gunnedah/225595/',\n",
       " 'https://www.thegreyhoundrecorder.com.au/results/hobart/225575/',\n",
       " 'https://www.thegreyhoundrecorder.com.au/results/ipswich/225619/',\n",
       " 'https://www.thegreyhoundrecorder.com.au/results/limerick/225634/',\n",
       " 'https://www.thegreyhoundrecorder.com.au/results/mandurah/225594/',\n",
       " 'https://www.thegreyhoundrecorder.com.au/results/mount-gambier/225597/',\n",
       " 'https://www.thegreyhoundrecorder.com.au/results/sandown-park/225606/',\n",
       " 'https://www.thegreyhoundrecorder.com.au/results/shelbourne-park/225631/',\n",
       " 'https://www.thegreyhoundrecorder.com.au/results/shepparton/225609/',\n",
       " 'https://www.thegreyhoundrecorder.com.au/results/the-valley/225637/',\n",
       " 'https://www.thegreyhoundrecorder.com.au/results/warragul/225596/',\n",
       " 'https://www.thegreyhoundrecorder.com.au/results/warrnambool/225610/',\n",
       " 'https://www.thegreyhoundrecorder.com.au/results/waterford/225630/']"
      ]
     },
     "execution_count": 5,
     "metadata": {},
     "output_type": "execute_result"
    }
   ],
   "source": [
    "links1 = links.copy()\n",
    "nz = ['addington','ascot-park','cambridge','hatrick','manawatu','manukau']\n",
    "uk = ['doncaster','harlow','kinsley','monmore','nottingham','perry-barr','romford','sheffield','suffolk-downs','swindon','towcester','yarmouth','central-park','crayford','hove','newcastle','oxford','henlow']\n",
    "\n",
    "for x in links1:\n",
    "    for i in nz:\n",
    "        if i in x.split('/'):\n",
    "            links.remove(x)\n",
    "    for i in uk:\n",
    "        if i in x.split('/'):\n",
    "            links.remove(x)\n",
    "            \n",
    "links"
   ]
  },
  {
   "cell_type": "code",
   "execution_count": 6,
   "id": "14246311",
   "metadata": {},
   "outputs": [
    {
     "data": {
      "text/plain": [
       "\"base='https://www.thegreyhoundrecorder.com.au/results'\\ndriver = webdriver.Chrome()\\nlinks=[]\\nfor i in dates:\\n    url = base\\n    driver.get(url)\\n    time.sleep(3)\\n    \\n    datepicker_input = driver.find_element(By.CLASS_NAME, 'results-search-box__datepicker-input')\\n    datepicker_input.click()\\n    \\n    date_box = driver.find_element(By.CLASS_NAME,'id-'+i)\\n    date_box.click()\\n   \\n    \\n    search = driver.find_element(By.CLASS_NAME,'results-search-box__btn')\\n    search.click()\\n    time.sleep(2)\\n    \\n    rows = driver.find_elements(By.CLASS_NAME,'meeting-row')\\n    for row in rows:\\n        title = row.find_element(By.CLASS_NAME,'meeting-row__title').text\\n        \\n        state = title.split('(')[1].strip(')')\\n        link=row.find_element(By.TAG_NAME,'a').get_attribute('href')\\n        print(title,state,link)\\n        if(state not in ['NZL','GB']):\\n            \\n            \\n            if(link not in links):\\n                links.append(link)\\n    print(i)\\n            \\nlinks\""
      ]
     },
     "execution_count": 6,
     "metadata": {},
     "output_type": "execute_result"
    }
   ],
   "source": [
    "'''base='https://www.thegreyhoundrecorder.com.au/results'\n",
    "driver = webdriver.Chrome()\n",
    "links=[]\n",
    "for i in dates:\n",
    "    url = base\n",
    "    driver.get(url)\n",
    "    time.sleep(3)\n",
    "    \n",
    "    datepicker_input = driver.find_element(By.CLASS_NAME, 'results-search-box__datepicker-input')\n",
    "    datepicker_input.click()\n",
    "    \n",
    "    date_box = driver.find_element(By.CLASS_NAME,'id-'+i)\n",
    "    date_box.click()\n",
    "   \n",
    "    \n",
    "    search = driver.find_element(By.CLASS_NAME,'results-search-box__btn')\n",
    "    search.click()\n",
    "    time.sleep(2)\n",
    "    \n",
    "    rows = driver.find_elements(By.CLASS_NAME,'meeting-row')\n",
    "    for row in rows:\n",
    "        title = row.find_element(By.CLASS_NAME,'meeting-row__title').text\n",
    "        \n",
    "        state = title.split('(')[1].strip(')')\n",
    "        link=row.find_element(By.TAG_NAME,'a').get_attribute('href')\n",
    "        print(title,state,link)\n",
    "        if(state not in ['NZL','GB']):\n",
    "            \n",
    "            \n",
    "            if(link not in links):\n",
    "                links.append(link)\n",
    "    print(i)\n",
    "            \n",
    "links'''\n"
   ]
  },
  {
   "cell_type": "code",
   "execution_count": 7,
   "id": "df040262",
   "metadata": {},
   "outputs": [
    {
     "data": {
      "text/plain": [
       "34"
      ]
     },
     "execution_count": 7,
     "metadata": {},
     "output_type": "execute_result"
    }
   ],
   "source": [
    "len(links)"
   ]
  },
  {
   "cell_type": "code",
   "execution_count": null,
   "id": "e02cfb24",
   "metadata": {},
   "outputs": [
    {
     "name": "stdout",
     "output_type": "stream",
     "text": [
      "0\n",
      "1\n",
      "2\n",
      "3\n",
      "4\n",
      "5\n",
      "6\n",
      "7\n"
     ]
    }
   ],
   "source": [
    "import warnings\n",
    "warnings.simplefilter(\"ignore\", category=FutureWarning)\n",
    "mega = ''\n",
    "driver = webdriver.Chrome()\n",
    "for j in range(0,len(links)):\n",
    "    url=links[j]\n",
    "    driver.get(url)\n",
    "\n",
    "    races = len(driver.find_elements(By.CLASS_NAME,'meeting-events-nav__item'))\n",
    "    date = driver.find_element(By.CLASS_NAME,'results-meeting-events__date').text\n",
    "    date = ' '.join(date.split(' ')[1:])\n",
    "    date_format = '%B %d, %Y'\n",
    "    date = datetime.strptime(date, date_format)\n",
    "    date = date.strftime('%d/%m/%Y')\n",
    "    track = url.split('/')[-3]\n",
    "\n",
    "#     for i in range(1,2):\n",
    "    for i in range(1,races+1):\n",
    "\n",
    "        URL=url+str(i)+'/'\n",
    "#         driver = webdriver.Chrome()\n",
    "        driver.get(URL)\n",
    "        try:\n",
    "            details = driver.find_element(By.CLASS_NAME,'results-event')\n",
    "            dist = details.find_element(By.CLASS_NAME,'meeting-event__header-distance').text[:-1]\n",
    "            grade = details.find_element(By.CLASS_NAME,'meeting-event__header-class').text\n",
    "\n",
    "\n",
    "            tab = driver.find_element(By.CLASS_NAME,'results-event__table')\n",
    "            df= pd.read_html(tab.get_attribute('outerHTML'))[0]\n",
    "            df=df.drop(columns=['Rug','Sire','Dam'])\n",
    "\n",
    "            df=df[df['Plc']!='SCR']\n",
    "            df['Distance']=int(dist)\n",
    "            df['RaceGrade']=grade\n",
    "            df['date']=date\n",
    "            df['Track']=track\n",
    "\n",
    "            if(j==0):\n",
    "                mega = df\n",
    "            else:\n",
    "                mega = pd.concat([mega,df],ignore_index=True)\n",
    "        except NoSuchElementException:\n",
    "            pass\n",
    "        \n",
    "    print(j)\n",
    "        \n",
    "    \n",
    "\n"
   ]
  },
  {
   "cell_type": "code",
   "execution_count": null,
   "id": "852ce641",
   "metadata": {},
   "outputs": [],
   "source": [
    "mega.to_csv('scrapes/scrape64.csv')"
   ]
  },
  {
   "cell_type": "code",
   "execution_count": null,
   "id": "7ad9e0bb",
   "metadata": {},
   "outputs": [],
   "source": [
    "mega"
   ]
  },
  {
   "cell_type": "code",
   "execution_count": null,
   "id": "fafeb735",
   "metadata": {},
   "outputs": [],
   "source": []
  },
  {
   "cell_type": "code",
   "execution_count": null,
   "id": "31939c21",
   "metadata": {},
   "outputs": [],
   "source": []
  },
  {
   "cell_type": "code",
   "execution_count": null,
   "id": "29110fad",
   "metadata": {},
   "outputs": [],
   "source": []
  }
 ],
 "metadata": {
  "kernelspec": {
   "display_name": "Python 3 (ipykernel)",
   "language": "python",
   "name": "python3"
  },
  "language_info": {
   "codemirror_mode": {
    "name": "ipython",
    "version": 3
   },
   "file_extension": ".py",
   "mimetype": "text/x-python",
   "name": "python",
   "nbconvert_exporter": "python",
   "pygments_lexer": "ipython3",
   "version": "3.10.9"
  }
 },
 "nbformat": 4,
 "nbformat_minor": 5
}
