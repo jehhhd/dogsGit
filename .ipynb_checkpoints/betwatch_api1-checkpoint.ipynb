{
 "cells": [
  {
   "cell_type": "code",
   "execution_count": 1,
   "id": "3fde785a",
   "metadata": {},
   "outputs": [],
   "source": [
    "import pandas as pd\n",
    "import numpy as np\n",
    "import asyncio\n",
    "import re\n",
    "import os\n",
    "from datetime import datetime, timedelta\n",
    "import betwatch\n",
    "from betwatch.types import (\n",
    "    Bookmaker,\n",
    "    MarketPriceType,\n",
    "    MeetingType,\n",
    "    RaceProjection,\n",
    "    RacesFilter,\n",
    ")\n",
    "import matplotlib.pyplot as plt"
   ]
  },
  {
   "cell_type": "markdown",
   "id": "6bed6cac",
   "metadata": {},
   "source": [
    "TODO\n",
    "- flucs\n",
    "- place markets"
   ]
  },
  {
   "cell_type": "code",
   "execution_count": 2,
   "id": "859011a3",
   "metadata": {},
   "outputs": [],
   "source": [
    "def extract_track_and_date(input_string):\n",
    "    # Define a regular expression pattern\n",
    "    pattern = re.compile(r'\\((.*?)\\) (.*?) R(\\d+) \\[(\\d{2}/\\d{2}/\\d{4} \\d{2}:\\d{2})\\]')\n",
    "\n",
    "    # Match the pattern in the input string\n",
    "    match = pattern.match(input_string)\n",
    "\n",
    "    if match:\n",
    "        # Extract matched groups\n",
    "        track_type, track_name, race_number, date_string = match.groups()\n",
    "\n",
    "        # Parse the date string to a datetime object\n",
    "        race_date = datetime.strptime(date_string, \"%d/%m/%Y %H:%M\").strftime(format='%Y-%m-%d')\n",
    "\n",
    "        return {\n",
    "            'track_type': track_type,\n",
    "            'track_name': track_name,\n",
    "            'race_number': int(race_number),\n",
    "            'race_date': race_date\n",
    "        }\n",
    "    else:\n",
    "        return None\n"
   ]
  },
  {
   "cell_type": "code",
   "execution_count": null,
   "id": "9865e4b1",
   "metadata": {},
   "outputs": [],
   "source": [
    "\n",
    "api_key = 'd747b241-f64c-4b2b-8573-f0557cc31e03'\n",
    "\n",
    "client = betwatch.connect(api_key=api_key)\n",
    "\n",
    "# define the projection of the returned data\n",
    "# we can filter out for certain bookmakers as well as define whether we want market data or flucs\n",
    "projection = RaceProjection(\n",
    "    markets=True,  bookmakers=[Bookmaker.SPORTSBET], flucs=True\n",
    ")\n",
    "\n",
    "# define the filter for the query\n",
    "# here we can filter by date, type of meeting, and various other parameters\n",
    "races_filter = RacesFilter(\n",
    "    date_from=datetime.now() - timedelta(days=600),\n",
    "    date_to=datetime.now() - timedelta(days=1),\n",
    "    types=[MeetingType.GREYHOUND],  # filter on a race type\n",
    "\n",
    ")\n",
    "\n",
    "races = client.get_races(projection, races_filter)"
   ]
  },
  {
   "cell_type": "code",
   "execution_count": null,
   "id": "a7078f44",
   "metadata": {},
   "outputs": [],
   "source": [
    "res=[]\n",
    "empties=0\n",
    "for race in races[:10]:\n",
    "    rname = str(race)\n",
    "    res1 = extract_track_and_date(rname)\n",
    "    if(1==1):\n",
    "    # make sure the race has runners\n",
    "        if race.runners:\n",
    "            # loop through each runner in the race\n",
    "            for runner in race.runners:\n",
    "                name = str(runner)\n",
    "                \n",
    "                price=0\n",
    "                date='1900-01-01'\n",
    "                fluc=0\n",
    "                diff=0\n",
    "                \n",
    "                for m in runner.bookmaker_markets:\n",
    "                    try:\n",
    "                        price = m.fixed_win.price\n",
    "                        date = m.fixed_win._last_updated\n",
    "                        \n",
    "                        fluc =m.fixed_win.flucs[0].price\n",
    "                        fluc_time = m.fixed_win.flucs[0]._last_updated\n",
    "                        \n",
    "                        \n",
    "                        timestamp1 = datetime.fromisoformat(date[:-1])  # Remove 'Z' at the end\n",
    "                        timestamp2 = datetime.fromisoformat(fluc_time[:-1])\n",
    "                        diff = timestamp1 - timestamp2\n",
    "                        diff = int(diff.total_seconds() / 60)\n",
    "                        \n",
    "                        \n",
    "                    except:\n",
    "                        empties+=1\n",
    "#                         print(empties)\n",
    "\n",
    "                res2 = res1.copy()\n",
    "                res2['name']=name\n",
    "                res2['price']=price\n",
    "                res2['fluc']=fluc\n",
    "                res2['time_diff']=diff\n",
    "                res.append(res2)\n",
    "                \n",
    "df = pd.DataFrame(res)\n",
    "print('errors:',empties)\n",
    "df"
   ]
  },
  {
   "cell_type": "code",
   "execution_count": null,
   "id": "7f0e9e26",
   "metadata": {},
   "outputs": [],
   "source": [
    "plt.boxplot(df[df['time_diff']>0]['time_diff'])"
   ]
  },
  {
   "cell_type": "code",
   "execution_count": null,
   "id": "95522d2c",
   "metadata": {},
   "outputs": [],
   "source": [
    "runner.bookmaker_markets[0].fixed_win.flucs[0]._last_updated"
   ]
  },
  {
   "cell_type": "code",
   "execution_count": null,
   "id": "d187fce4",
   "metadata": {},
   "outputs": [],
   "source": [
    "df2 = df.copy()\n",
    "df2 = df2.drop(columns=['track_type','race_number'])\n",
    "df2 = df2.rename(columns={'name':'DogName','race_date':'date','price':'sb','track_name':'Track'})\n",
    "df2['DogName']=np.where(df2['DogName'].str.contains('10.'),df2['DogName'].str[4:],df2['DogName'].str[3:])\n",
    "df2['DogName']= df2['DogName'].str.lower().str.strip()\n",
    "df2['date']=df2['date'].astype(str)\n",
    "trks = ['shepparton', 'maitland', 'ballarat', 'sandown park', 'goulburn', 'hobart', 'dapto', 'angle park', 'warrnambool', 'warragul', 'albion park', 'northam', 'traralgon', 'healesville', 'richmond', 'ipswich', 'geelong', 'casino', 'the gardens', 'cannington', 'mount gambier', 'dubbo', 'bendigo', 'bulli', 'horsham', 'wentworth park', 'the meadows', 'sale', 'darwin', 'gawler', 'grafton', 'nowra', 'bathurst', 'launceston', 'townsville', 'devonport', 'lismore', 'rockhampton', 'cranbourne', 'strathalbyn', 'wagga', 'cairns', 'mandurah', 'temora', 'gosford', 'capalaba', 'murray bridge', 'angle park', 'ipswich', 'bundaberg', 'gunnedah', 'taree']\n",
    "df2 = df2[df2['Track'].str.lower().isin(trks)]\n",
    "df2['Track']=df2['Track'].str.lower()\n",
    "df2"
   ]
  },
  {
   "cell_type": "code",
   "execution_count": null,
   "id": "346c0ebb",
   "metadata": {},
   "outputs": [],
   "source": [
    "allraces = pd.read_csv('bsp_allRaces.csv')\n",
    "allraces['date']=allraces['date'].astype(str)\n",
    "allraces"
   ]
  },
  {
   "cell_type": "code",
   "execution_count": null,
   "id": "8a54b1ac",
   "metadata": {},
   "outputs": [],
   "source": [
    "df3 = pd.merge(df2,allraces,how='inner',on=['DogName','date','Track'])\n",
    "df4=df3[['DogName','Track','date','sb','StartPrice','BSP','fluc','time_diff']]\n",
    "df4.to_csv('price_comparison.csv')\n",
    "df4"
   ]
  },
  {
   "cell_type": "code",
   "execution_count": null,
   "id": "2e365be6",
   "metadata": {},
   "outputs": [],
   "source": [
    "df4['StartPrice']=df4['StartPrice'].astype(float,errors='ignore')\n",
    "df4['sb']=df4['sb'].astype(float,errors='ignore')\n",
    "df4['sb-sp']=df4['sb']-df4['StartPrice']\n",
    "for track in df4['Track'].unique():\n",
    "    print(track)\n",
    "    values = np.arange(1,10,0.5)\n",
    "    \n",
    "    for val in values:\n",
    "        df5=df4[ (df4['sb'] >= val) & (df4['sb'] <= val+0.5) & (df4['Track']==track)]\n",
    "        df5=df5.dropna(subset=['sb-sp'])\n",
    "        print(val,'-',val+0.5,'mean:',df5['sb-sp'].mean(),'std:',df5['sb-sp'].std())\n",
    "    print()\n",
    "    print()"
   ]
  },
  {
   "cell_type": "code",
   "execution_count": null,
   "id": "baa74b0c",
   "metadata": {},
   "outputs": [],
   "source": []
  },
  {
   "cell_type": "code",
   "execution_count": null,
   "id": "f59b7351",
   "metadata": {},
   "outputs": [],
   "source": []
  }
 ],
 "metadata": {
  "kernelspec": {
   "display_name": "Python 3 (ipykernel)",
   "language": "python",
   "name": "python3"
  },
  "language_info": {
   "codemirror_mode": {
    "name": "ipython",
    "version": 3
   },
   "file_extension": ".py",
   "mimetype": "text/x-python",
   "name": "python",
   "nbconvert_exporter": "python",
   "pygments_lexer": "ipython3",
   "version": "3.10.9"
  }
 },
 "nbformat": 4,
 "nbformat_minor": 5
}
